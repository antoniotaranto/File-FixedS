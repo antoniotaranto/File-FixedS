{
 "cells": [
  {
   "cell_type": "code",
   "execution_count": 10,
   "metadata": {
    "collapsed": false
   },
   "outputs": [
    {
     "name": "stdout",
     "output_type": "stream",
     "text": [
      "Record(tr=1, valor=-1234567890.12, estado='RS', nome='ROSANGELA    X')\n",
      "Record(tr=2, valor=1234567890.12, estado='RS', nome='FLAVIO       X')\n",
      "Record(tr=3, valor=-1234567890.12, estado='SP', nome='KATE         X')\n",
      "Record(tr=4, valor=-1234567890.12, estado='SP', nome='KAROLINE     X')\n",
      "Record(tr=5, valor=-1234567890.12, estado='SP', nome='MAURICIO     X')\n",
      "True 01123456789012-RSROSANGELA    X\n",
      "\n",
      "True 02123456789012+RSFLAVIO       X\n",
      "\n",
      "True 03123456789012-SPKATE         X\n",
      "\n",
      "True 04123456789012-SPKAROLINE     X\n",
      "\n",
      "True 05123456789012-SPMAURICIO     X\n",
      "\n"
     ]
    }
   ],
   "source": [
    "from fixed_files import Fixed_files\n",
    "ff = Fixed_files('record', dic=False, checklength=False)\n",
    "records = open('record.txt').readlines()\n",
    "rec_in = []\n",
    "for record in records:\n",
    "    rec_in.append(ff.parse(record))\n",
    "rec_in\n",
    "for rec in rec_in:\n",
    "    print rec\n",
    "\n",
    "for n, r in enumerate(rec_in):\n",
    "    unparse = ff.unparse(r)\n",
    "    print unparse == records[n], unparse"
   ]
  },
  {
   "cell_type": "code",
   "execution_count": 3,
   "metadata": {
    "collapsed": true
   },
   "outputs": [
    {
     "name": "stdout",
     "output_type": "stream",
     "text": [
      "Record(tr=1, valor=-1234567890.12, estado='RS', nome='ROSANGELA    X')\n",
      "Record(tr=2, valor=1234567890.12, estado='RS', nome='FLAVIO       X')\n",
      "Record(tr=3, valor=-1234567890.12, estado='SP', nome='KATE         X')\n",
      "Record(tr=4, valor=-1234567890.12, estado='SP', nome='KAROLINE     X')\n",
      "Record(tr=5, valor=-1234567890.12, estado='SP', nome='MAURICIO     X')\n"
     ]
    }
   ],
   "source": [
    "from fixed_files_parse import Fixed_files\n",
    "ff = Fixed_files('record', dic=False)\n",
    "records = open('record.txt').readlines()\n",
    "rec_in = []\n",
    "for record in records:\n",
    "    rec_in.append(ff.parse(record))\n",
    "rec_in\n",
    "for rec in rec_in:\n",
    "    print rec\n"
   ]
  },
  {
   "cell_type": "code",
   "execution_count": 17,
   "metadata": {
    "collapsed": false
   },
   "outputs": [
    {
     "data": {
      "text/plain": [
       "'MAURICIO     X'"
      ]
     },
     "execution_count": 17,
     "metadata": {},
     "output_type": "execute_result"
    }
   ],
   "source": [
    "rec.nome"
   ]
  },
  {
   "cell_type": "code",
   "execution_count": 19,
   "metadata": {
    "collapsed": true
   },
   "outputs": [
    {
     "name": "stdout",
     "output_type": "stream",
     "text": [
      "5\n",
      "-1234567890.12\n",
      "SP\n",
      "MAURICIO     X\n"
     ]
    }
   ],
   "source": [
    "for r in rec: print r"
   ]
  },
  {
   "cell_type": "code",
   "execution_count": 20,
   "metadata": {
    "collapsed": true
   },
   "outputs": [],
   "source": [
    "from fixed_files_parse import Fixed_files\n",
    "ff = Fixed_files('record', dic=False)\n",
    "records = open('record.txt')\n",
    "record = ff.parse(records.read())"
   ]
  },
  {
   "cell_type": "code",
   "execution_count": 22,
   "metadata": {
    "collapsed": false
   },
   "outputs": [
    {
     "data": {
      "text/plain": [
       "1"
      ]
     },
     "execution_count": 22,
     "metadata": {},
     "output_type": "execute_result"
    }
   ],
   "source": [
    "record.tr"
   ]
  }
 ],
 "metadata": {
  "kernelspec": {
   "display_name": "Python 2",
   "language": "python",
   "name": "python2"
  },
  "language_info": {
   "codemirror_mode": {
    "name": "ipython",
    "version": 2
   },
   "file_extension": ".py",
   "mimetype": "text/x-python",
   "name": "python",
   "nbconvert_exporter": "python",
   "pygments_lexer": "ipython2",
   "version": "2.7.14"
  }
 },
 "nbformat": 4,
 "nbformat_minor": 1
}
